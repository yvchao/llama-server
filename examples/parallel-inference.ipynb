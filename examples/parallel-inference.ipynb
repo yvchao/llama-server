{
 "cells": [
  {
   "cell_type": "code",
   "execution_count": 1,
   "id": "05bf5412-d4be-4e58-82fe-8654261c1b23",
   "metadata": {
    "tags": []
   },
   "outputs": [],
   "source": [
    "from pathlib import Path\n",
    "import asyncio\n",
    "import time\n",
    "from IPython.display import display\n",
    "from llama_server import LlamaServer"
   ]
  },
  {
   "cell_type": "markdown",
   "id": "9afd8068-b83b-4aa3-a19e-70c4660363d1",
   "metadata": {},
   "source": [
    "Download the quantized Llama2 model on [huggingface](https://huggingface.co/TheBloke/Llama-2-7B-Chat-GGUF/tree/main) and save them to the folder \"llms\""
   ]
  },
  {
   "cell_type": "markdown",
   "id": "12cef3ef-8f60-4cac-9936-655d6ab1ffd0",
   "metadata": {},
   "source": [
    "#### Start the server"
   ]
  },
  {
   "cell_type": "code",
   "execution_count": 2,
   "id": "0c7c6cf2-3ed4-404f-9d3b-c0021249c5e4",
   "metadata": {
    "tags": []
   },
   "outputs": [],
   "source": [
    "config = {\n",
    "    \"alias\": \"LLaMA2 7B\",\n",
    "    \"model\": \"./llms/llama-2-7b-chat.Q5_K_M.gguf\",\n",
    "    \"server_exe\": \"../llama_server\",\n",
    "    \"system_prompt\": \"./llama2_prompt.json\",\n",
    "    \"prefix\": \"[INST]\",\n",
    "    \"suffix\": \"[/INST]\",\n",
    "}\n",
    "slots = 5 # let us run 5 inferences in parallel\n",
    "context_size = 4096 # maximum context size "
   ]
  },
  {
   "cell_type": "code",
   "execution_count": 3,
   "id": "db069ad2-275c-406f-9be7-18e8431e33c5",
   "metadata": {
    "tags": []
   },
   "outputs": [
    {
     "name": "stderr",
     "output_type": "stream",
     "text": [
      "\u001b[32m2023-11-05 20:15:00.009 GMT\u001b[0m: \u001b[1mServer online.\u001b[0m\n"
     ]
    }
   ],
   "source": [
    "llm = LlamaServer(config, context_size=context_size, slots=slots)\n",
    "proc = await llm.start_server()"
   ]
  },
  {
   "cell_type": "markdown",
   "id": "21f84169-7970-4a3e-8939-e1338e8b4ebb",
   "metadata": {},
   "source": [
    "#### Try an example"
   ]
  },
  {
   "cell_type": "code",
   "execution_count": 4,
   "id": "963ad912-baca-42a6-b77b-c638545b1522",
   "metadata": {
    "tags": []
   },
   "outputs": [
    {
     "name": "stdout",
     "output_type": "stream",
     "text": [
      "Q: Tell me the value of $\\pi$.\n",
      "A: The value of $\\pi$ is an irrational number, which means it cannot be expressed as a finite decimal or fraction. It is approximately equal to:\n",
      "$$\\pi \\approx 3.141592653589793238462643383279502884197179769008651328230664709384460955058223172535940812848111745028410270007656757863067528000000000000000000000000000000000000000000000000000000000000000000000000000000000000000000000000000000000000000000000000000000000000000000000000000000000000000000000000000000000000000000000000000000000000000000000000000000000000000000000000000000000000000000000000000000000000000000000000000000000000000000000000000000000000000000000000000000000\n"
     ]
    }
   ],
   "source": [
    "prompt = \"Tell me the value of $\\pi$.\"\n",
    "result, _ = await llm.query(prompt, slot_id=-1, n_predict=512, stop=[\"User:\",\"[INST]\"])\n",
    "answer = result[\"content\"].strip()\n",
    "print(f\"Q: {prompt}\\nA: {answer}\")"
   ]
  },
  {
   "cell_type": "markdown",
   "id": "847c44a5-ac38-4304-bccc-08d2268abe91",
   "metadata": {},
   "source": [
    "#### Tokenize the prompt"
   ]
  },
  {
   "cell_type": "code",
   "execution_count": 5,
   "id": "55d4eb66-26c0-4f5b-9ed5-963ac8fedc68",
   "metadata": {
    "tags": []
   },
   "outputs": [
    {
     "name": "stdout",
     "output_type": "stream",
     "text": [
      "[24948, 592, 278, 995, 310, 779, 1631, 1504]\n"
     ]
    }
   ],
   "source": [
    "result = await llm.tokenize(prompt)\n",
    "tokens = result[\"tokens\"]\n",
    "print(tokens)"
   ]
  },
  {
   "cell_type": "markdown",
   "id": "422ad1c0-d0e3-4f63-a5e8-b18d5e375909",
   "metadata": {},
   "source": [
    "#### Detokenization"
   ]
  },
  {
   "cell_type": "code",
   "execution_count": 6,
   "id": "6ca0a888-c87d-4c98-980a-a95b71412711",
   "metadata": {
    "tags": []
   },
   "outputs": [
    {
     "name": "stdout",
     "output_type": "stream",
     "text": [
      "{'content': ' Tell me the value of $\\\\pi$.'}\n"
     ]
    }
   ],
   "source": [
    "print(await llm.detokenize(tokens))"
   ]
  },
  {
   "cell_type": "code",
   "execution_count": 7,
   "id": "bb7e60d4-b334-4e08-8ca5-d34603ccd1eb",
   "metadata": {
    "tags": []
   },
   "outputs": [],
   "source": [
    "prompts = [\n",
    "    \"How to build a website?\",\n",
    "    \"Teach me how to calculate $\\pi$?\",\n",
    "    \"Which city is the capital of China?\",\n",
    "    \"1+1=?\",\n",
    "    \"What is the answer to life the universe and everything?\"\n",
    "]"
   ]
  },
  {
   "cell_type": "code",
   "execution_count": 8,
   "id": "193cd937-5ecd-4d35-9055-c5aed2e13da0",
   "metadata": {
    "tags": []
   },
   "outputs": [
    {
     "name": "stdout",
     "output_type": "stream",
     "text": [
      "Time spent: 5.401 seconds\n",
      "Q: How to build a website?\n",
      "A: Building a website can be a complex process, but it can be broken down into several manageable steps. Here's a general outline of the steps involved in building a website:\n",
      "1. Define your website's purpose and goals: Before you start building your website, you need to determine its purpose and what you want to achieve with it. What is the main message you want to convey? Who is your target audience? What do you want visitors to do when they visit your site?\n",
      "2. Choose a domain name and web hosting: Your domain name is the address of your website (e.g., [www.yoursite.com](http://www.yoursite.com)), while web hosting is the service that allows your website to be accessed on the internet. You can choose from various web hosting providers, such as Bluehost, HostGator, or SiteGround.\n",
      "3. Plan your website's structure: Determine the pages\n",
      "--------------------\n",
      "Q: Teach me how to calculate $\\pi$?\n",
      "A: Sure! There are many ways to calculate the value of $\\pi$, but here are a few common methods:\n",
      "\n",
      "1. The Babylonian method: This is one of the oldest methods for calculating $\\pi$, and it involves inscribing and circumscribing polygons around a circle and then calculating their perimeters. The ratio of the perimeter of the polygons to the diameter of the circle will approach $\\pi$ as the number of sides of the polygons increases.\n",
      "2. The Gregory-Leibniz series: This is a infinite series that converges to $\\pi$. The series is :\n",
      "$$\\pi = 4 \\sum_{n=1}^{\\infty} \\frac{1}{n^2} = 4 \\left( \\frac{1}{1^2} + \\frac{1}{2^2} + \\frac{1}{3^2} + \\cdots \\right)$$\n",
      "You can use\n",
      "--------------------\n",
      "Q: Which city is the capital of China?\n",
      "A: The capital of China is Beijing (北京).\n",
      "--------------------\n",
      "Q: 1+1=?\n",
      "A: The answer to 1+1 is 2.\n",
      "--------------------\n",
      "Q: What is the answer to life the universe and everything?\n",
      "A: The answer to the ultimate question of life, the universe, and everything is a famous concept from Douglas Adams' science fiction series \"The Hitchhiker's Guide to the Galaxy.\" In the series, a supercomputer named Deep Thought is asked to find the answer to the ultimate question, and after seven and a half million years of calculation, it finally reveals that the answer is 42.\n",
      "However, it's important to note that the number 42 is not actually the answer to life, the universe, and everything. Rather, it is a humorous and satirical commentary on the idea that there may be a single, definitive answer to the mysteries of existence. The character Arthur Dent, who is the protagonist of the series, observes that \"most people think that the answer to the ultimate question of life, the universe, and everything is 42. But I don't know if\n",
      "--------------------\n"
     ]
    }
   ],
   "source": [
    "start = time.time()\n",
    "results, _ = await llm.batch_query(prompts, n_predict=200, stop=[\"User:\",\"[INST]\"])\n",
    "end = time.time()\n",
    "print(f\"Time spent: {end-start:.3f} seconds\")\n",
    "for prompt, result in zip(prompts, results):\n",
    "    answer = result[\"content\"].strip()\n",
    "    print(f\"Q: {prompt}\\nA: {answer}\")\n",
    "    print(\"-\"*20)"
   ]
  },
  {
   "cell_type": "code",
   "execution_count": 9,
   "id": "f17a6bf9-9197-4fd4-8f1f-fbd16548f32a",
   "metadata": {
    "tags": []
   },
   "outputs": [
    {
     "name": "stdout",
     "output_type": "stream",
     "text": [
      "Time spent: 10.815 seconds\n",
      "Q: How to build a website?\n",
      "A: Building a website can be a complex process, but it can be broken down into several manageable steps. Here's a general outline of the steps involved in building a website:\n",
      "1. Define your website's purpose and goals: Before you start building your website, you need to determine its purpose and what you want to achieve with it. What is the main message you want to convey? Who is your target audience? What do you want visitors to do when they visit your site?\n",
      "2. Choose a domain name and web hosting: Your domain name is the address of your website (e.g., [www.yoursite.com](http://www.yoursite.com)), while web hosting is the service that allows your website to be viewed on the internet. You can choose from various web hosting providers, such as Bluehost, HostGator, or SiteGround.\n",
      "3. Plan your website's structure: Sketch out a rough\n",
      "--------------------\n",
      "Q: Teach me how to calculate $\\pi$?\n",
      "A: Sure! Calculating $\\pi$ is a classic problem in mathematics that has been challenging mathematicians for centuries. Here are some methods you can use to calculate $\\pi$:\n",
      "\n",
      "1. **Archimedes' Method**: This is one of the oldest methods for calculating $\\pi$. Archimedes used the method of inscribing and circumscribing polygons to estimate $\\pi$. The idea is to draw a polygon inside and outside of a circle, and then use the perimeter of the polygon to estimate $\\pi$.\n",
      "2. **Babylonian Method**: This method was developed by the ancient Babylonians and uses a sequence of approximations to calculate $\\pi$. The method starts with an initial value of $\\pi$ and then iteratively improves the approximation using a formula that involves the previous approximation.\n",
      "3. **Gregory-Leibniz Series**: This is a infinite series that converges to $\\pi$. The series\n",
      "--------------------\n",
      "Q: Which city is the capital of China?\n",
      "A: The capital of China is Beijing (北京).\n",
      "--------------------\n",
      "Q: 1+1=?\n",
      "A: The answer to 1 + 1 is 2.\n",
      "--------------------\n",
      "Q: What is the answer to life the universe and everything?\n",
      "A: The answer to the ultimate question of life, the universe, and everything is a famous concept from Douglas Adams' science fiction series \"The Hitchhiker's Guide to the Galaxy.\" In the series, a supercomputer named Deep Thought is asked to find the answer to the ultimate question, and after seven and a half million years of calculation, it reveals that the answer is 42.\n",
      "However, the characters in the series soon realize that they don't actually know what the question is, so the answer is essentially meaningless without context. The joke is that the search for the ultimate answer to life, the universe, and everything becomes a humorous and absurd adventure, rather than a serious or profound one.\n",
      "In other words, 42 is not actually the answer to anything, but rather a humorous and satirical commentary on the idea of searching for a single, definitive answer to life's\n",
      "--------------------\n"
     ]
    }
   ],
   "source": [
    "start = time.time()\n",
    "results = []\n",
    "for prompt in prompts:\n",
    "    result, _ = await llm.query(prompt, n_predict=200, stop=[\"User:\",\"[INST]\"])\n",
    "    results.append(result)\n",
    "end = time.time()\n",
    "print(f\"Time spent: {end-start:.3f} seconds\")\n",
    "for prompt, result in zip(prompts, results):\n",
    "    answer = result[\"content\"].strip()\n",
    "    print(f\"Q: {prompt}\\nA: {answer}\")\n",
    "    print(\"-\"*20)"
   ]
  },
  {
   "cell_type": "markdown",
   "id": "e6ef48ce-943d-4c75-a8ff-9abc68348600",
   "metadata": {},
   "source": [
    "We can see that having 5 parallel slots cuts the total inference time by half (10.8 → 5.4).\n",
    "The quality of generated texts remains similar."
   ]
  },
  {
   "cell_type": "code",
   "execution_count": 10,
   "id": "8ac0ae1b-380b-4047-9a3a-d807a605bf8b",
   "metadata": {
    "tags": []
   },
   "outputs": [
    {
     "data": {
      "text/plain": [
       "-15"
      ]
     },
     "execution_count": 10,
     "metadata": {},
     "output_type": "execute_result"
    }
   ],
   "source": [
    "llm.stop_server()"
   ]
  },
  {
   "cell_type": "code",
   "execution_count": null,
   "id": "b5aea27d-0f50-467a-9694-a98b48d538e6",
   "metadata": {},
   "outputs": [],
   "source": []
  }
 ],
 "metadata": {
  "kernelspec": {
   "display_name": "Python 3 (ipykernel)",
   "language": "python",
   "name": "python3"
  },
  "language_info": {
   "codemirror_mode": {
    "name": "ipython",
    "version": 3
   },
   "file_extension": ".py",
   "mimetype": "text/x-python",
   "name": "python",
   "nbconvert_exporter": "python",
   "pygments_lexer": "ipython3",
   "version": "3.10.12"
  }
 },
 "nbformat": 4,
 "nbformat_minor": 5
}
